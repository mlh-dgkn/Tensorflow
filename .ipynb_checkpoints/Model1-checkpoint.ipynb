{
 "cells": [
  {
   "cell_type": "code",
   "execution_count": 28,
   "id": "02095abf",
   "metadata": {},
   "outputs": [],
   "source": [
    "import pandas as pd\n",
    "import numpy as np\n",
    "from tensorflow.keras.models import Sequential\n",
    "from tensorflow.keras.layers import Dense\n",
    "from sklearn.model_selection import train_test_split\n",
    "from sklearn.preprocessing import MinMaxScaler\n",
    "import seaborn as sbn"
   ]
  },
  {
   "cell_type": "code",
   "execution_count": 29,
   "id": "ec5f7c55",
   "metadata": {},
   "outputs": [],
   "source": [
    "df=pd.DataFrame(pd.read_csv(\"data.csv\"))"
   ]
  },
  {
   "cell_type": "code",
   "execution_count": 30,
   "id": "5905c744-7012-43da-9802-7f68a18dbeea",
   "metadata": {},
   "outputs": [],
   "source": [
    "df.drop([\"Apartment type\",\"Metro station\",\"Region\",\"Renovation\"],axis=1,inplace=True)"
   ]
  },
  {
   "cell_type": "code",
   "execution_count": 31,
   "id": "deb37d8f-0488-4e79-bca6-124937c60e49",
   "metadata": {},
   "outputs": [
    {
     "data": {
      "text/html": [
       "<div>\n",
       "<style scoped>\n",
       "    .dataframe tbody tr th:only-of-type {\n",
       "        vertical-align: middle;\n",
       "    }\n",
       "\n",
       "    .dataframe tbody tr th {\n",
       "        vertical-align: top;\n",
       "    }\n",
       "\n",
       "    .dataframe thead th {\n",
       "        text-align: right;\n",
       "    }\n",
       "</style>\n",
       "<table border=\"1\" class=\"dataframe\">\n",
       "  <thead>\n",
       "    <tr style=\"text-align: right;\">\n",
       "      <th></th>\n",
       "      <th>Price</th>\n",
       "      <th>Minutes to metro</th>\n",
       "      <th>Number of rooms</th>\n",
       "      <th>Area</th>\n",
       "      <th>Living area</th>\n",
       "      <th>Kitchen area</th>\n",
       "      <th>Floor</th>\n",
       "      <th>Number of floors</th>\n",
       "    </tr>\n",
       "  </thead>\n",
       "  <tbody>\n",
       "    <tr>\n",
       "      <th>0</th>\n",
       "      <td>6300000.0</td>\n",
       "      <td>6.0</td>\n",
       "      <td>1.0</td>\n",
       "      <td>30.60</td>\n",
       "      <td>11.1</td>\n",
       "      <td>8.5</td>\n",
       "      <td>25.0</td>\n",
       "      <td>25</td>\n",
       "    </tr>\n",
       "    <tr>\n",
       "      <th>1</th>\n",
       "      <td>9000000.0</td>\n",
       "      <td>2.0</td>\n",
       "      <td>1.0</td>\n",
       "      <td>49.20</td>\n",
       "      <td>20.0</td>\n",
       "      <td>10.0</td>\n",
       "      <td>6.0</td>\n",
       "      <td>15</td>\n",
       "    </tr>\n",
       "    <tr>\n",
       "      <th>2</th>\n",
       "      <td>11090000.0</td>\n",
       "      <td>14.0</td>\n",
       "      <td>1.0</td>\n",
       "      <td>44.70</td>\n",
       "      <td>16.2</td>\n",
       "      <td>13.1</td>\n",
       "      <td>10.0</td>\n",
       "      <td>25</td>\n",
       "    </tr>\n",
       "    <tr>\n",
       "      <th>3</th>\n",
       "      <td>8300000.0</td>\n",
       "      <td>8.0</td>\n",
       "      <td>1.0</td>\n",
       "      <td>35.10</td>\n",
       "      <td>16.0</td>\n",
       "      <td>11.0</td>\n",
       "      <td>12.0</td>\n",
       "      <td>33</td>\n",
       "    </tr>\n",
       "    <tr>\n",
       "      <th>4</th>\n",
       "      <td>6450000.0</td>\n",
       "      <td>6.0</td>\n",
       "      <td>1.0</td>\n",
       "      <td>37.70</td>\n",
       "      <td>15.2</td>\n",
       "      <td>4.0</td>\n",
       "      <td>5.0</td>\n",
       "      <td>5</td>\n",
       "    </tr>\n",
       "    <tr>\n",
       "      <th>...</th>\n",
       "      <td>...</td>\n",
       "      <td>...</td>\n",
       "      <td>...</td>\n",
       "      <td>...</td>\n",
       "      <td>...</td>\n",
       "      <td>...</td>\n",
       "      <td>...</td>\n",
       "      <td>...</td>\n",
       "    </tr>\n",
       "    <tr>\n",
       "      <th>22671</th>\n",
       "      <td>4768792.0</td>\n",
       "      <td>8.0</td>\n",
       "      <td>0.0</td>\n",
       "      <td>31.75</td>\n",
       "      <td>13.0</td>\n",
       "      <td>5.0</td>\n",
       "      <td>4.0</td>\n",
       "      <td>17</td>\n",
       "    </tr>\n",
       "    <tr>\n",
       "      <th>22672</th>\n",
       "      <td>5900000.0</td>\n",
       "      <td>25.0</td>\n",
       "      <td>1.0</td>\n",
       "      <td>31.60</td>\n",
       "      <td>10.1</td>\n",
       "      <td>12.2</td>\n",
       "      <td>11.0</td>\n",
       "      <td>15</td>\n",
       "    </tr>\n",
       "    <tr>\n",
       "      <th>22673</th>\n",
       "      <td>3700000.0</td>\n",
       "      <td>30.0</td>\n",
       "      <td>0.0</td>\n",
       "      <td>18.00</td>\n",
       "      <td>15.0</td>\n",
       "      <td>8.1</td>\n",
       "      <td>17.0</td>\n",
       "      <td>17</td>\n",
       "    </tr>\n",
       "    <tr>\n",
       "      <th>22674</th>\n",
       "      <td>5768869.0</td>\n",
       "      <td>14.0</td>\n",
       "      <td>2.0</td>\n",
       "      <td>36.39</td>\n",
       "      <td>22.0</td>\n",
       "      <td>6.6</td>\n",
       "      <td>12.0</td>\n",
       "      <td>14</td>\n",
       "    </tr>\n",
       "    <tr>\n",
       "      <th>22675</th>\n",
       "      <td>6839157.0</td>\n",
       "      <td>8.0</td>\n",
       "      <td>2.0</td>\n",
       "      <td>56.13</td>\n",
       "      <td>32.0</td>\n",
       "      <td>5.0</td>\n",
       "      <td>10.0</td>\n",
       "      <td>17</td>\n",
       "    </tr>\n",
       "  </tbody>\n",
       "</table>\n",
       "<p>22676 rows × 8 columns</p>\n",
       "</div>"
      ],
      "text/plain": [
       "            Price  Minutes to metro  Number of rooms   Area  Living area  \\\n",
       "0       6300000.0               6.0              1.0  30.60         11.1   \n",
       "1       9000000.0               2.0              1.0  49.20         20.0   \n",
       "2      11090000.0              14.0              1.0  44.70         16.2   \n",
       "3       8300000.0               8.0              1.0  35.10         16.0   \n",
       "4       6450000.0               6.0              1.0  37.70         15.2   \n",
       "...           ...               ...              ...    ...          ...   \n",
       "22671   4768792.0               8.0              0.0  31.75         13.0   \n",
       "22672   5900000.0              25.0              1.0  31.60         10.1   \n",
       "22673   3700000.0              30.0              0.0  18.00         15.0   \n",
       "22674   5768869.0              14.0              2.0  36.39         22.0   \n",
       "22675   6839157.0               8.0              2.0  56.13         32.0   \n",
       "\n",
       "       Kitchen area  Floor  Number of floors  \n",
       "0               8.5   25.0                25  \n",
       "1              10.0    6.0                15  \n",
       "2              13.1   10.0                25  \n",
       "3              11.0   12.0                33  \n",
       "4               4.0    5.0                 5  \n",
       "...             ...    ...               ...  \n",
       "22671           5.0    4.0                17  \n",
       "22672          12.2   11.0                15  \n",
       "22673           8.1   17.0                17  \n",
       "22674           6.6   12.0                14  \n",
       "22675           5.0   10.0                17  \n",
       "\n",
       "[22676 rows x 8 columns]"
      ]
     },
     "execution_count": 31,
     "metadata": {},
     "output_type": "execute_result"
    }
   ],
   "source": [
    "df"
   ]
  },
  {
   "cell_type": "code",
   "execution_count": 32,
   "id": "82ce1956-0114-488a-88dc-cdebd435904d",
   "metadata": {},
   "outputs": [
    {
     "data": {
      "text/plain": [
       "<bound method Series.sort_values of Price               1.000000\n",
       "Minutes to metro   -0.105382\n",
       "Number of rooms     0.490820\n",
       "Area                0.794226\n",
       "Living area         0.709296\n",
       "Kitchen area        0.582940\n",
       "Floor               0.019080\n",
       "Number of floors   -0.022134\n",
       "Name: Price, dtype: float64>"
      ]
     },
     "execution_count": 32,
     "metadata": {},
     "output_type": "execute_result"
    }
   ],
   "source": [
    "df.corr()[\"Price\"].sort_values"
   ]
  },
  {
   "cell_type": "code",
   "execution_count": 33,
   "id": "cb1d3308-c356-4410-bb91-3c7338da13a1",
   "metadata": {},
   "outputs": [],
   "source": [
    "y=df[\"Price\"].values"
   ]
  },
  {
   "cell_type": "code",
   "execution_count": 34,
   "id": "e7e559c0-9073-47c6-ad9c-52eccd41ddbc",
   "metadata": {},
   "outputs": [],
   "source": [
    "x=df.drop([\"Price\"],axis=1).values"
   ]
  },
  {
   "cell_type": "code",
   "execution_count": 35,
   "id": "bc5336c2-5d16-45ec-935e-f47bf4810be0",
   "metadata": {},
   "outputs": [],
   "source": [
    "x_train,x_test,y_train,y_test=train_test_split(x,y,test_size=0.33,random_state=15)"
   ]
  },
  {
   "cell_type": "code",
   "execution_count": 36,
   "id": "195471fa-b145-4a6c-8de4-780205584dbc",
   "metadata": {},
   "outputs": [],
   "source": [
    "scaler=MinMaxScaler()"
   ]
  },
  {
   "cell_type": "code",
   "execution_count": 37,
   "id": "b534d2b4-3400-44d8-aec9-d1447ccea39c",
   "metadata": {},
   "outputs": [],
   "source": [
    "x_train=scaler.fit_transform(x_train)\n",
    "x_test=scaler.transform(x_test)"
   ]
  },
  {
   "cell_type": "code",
   "execution_count": 38,
   "id": "5beb9250-b776-4d71-87c4-6842834ba7bf",
   "metadata": {},
   "outputs": [],
   "source": [
    "model=Sequential()"
   ]
  },
  {
   "cell_type": "code",
   "execution_count": 39,
   "id": "5d761a3a-2ef9-48cc-9c2c-272cd6a8b3cf",
   "metadata": {},
   "outputs": [],
   "source": [
    "model.add(Dense(8))\n",
    "model.add(Dense(8))\n",
    "model.add(Dense(8))\n",
    "model.add(Dense(1))"
   ]
  },
  {
   "cell_type": "code",
   "execution_count": 48,
   "id": "55cadea2-3bc7-42d5-a952-9768059e0f6e",
   "metadata": {},
   "outputs": [],
   "source": [
    "model.compile(optimizer=\"rmsprop\",loss=\"mse\")"
   ]
  },
  {
   "cell_type": "code",
   "execution_count": 49,
   "id": "23cb6200-4b11-4bf2-9fdb-9c02d55986be",
   "metadata": {},
   "outputs": [
    {
     "name": "stdout",
     "output_type": "stream",
     "text": [
      "Epoch 1/100\n",
      "475/475 [==============================] - 0s 561us/step - loss: 3652050151800832.0000\n",
      "Epoch 2/100\n",
      "475/475 [==============================] - 0s 579us/step - loss: 3632684681134080.0000\n",
      "Epoch 3/100\n",
      "475/475 [==============================] - 0s 678us/step - loss: 3613344443400192.0000\n",
      "Epoch 4/100\n",
      "475/475 [==============================] - 0s 634us/step - loss: 3596242688933888.0000\n",
      "Epoch 5/100\n",
      "475/475 [==============================] - 0s 617us/step - loss: 3581479812595712.0000\n",
      "Epoch 6/100\n",
      "475/475 [==============================] - 0s 541us/step - loss: 3569020112470016.0000\n",
      "Epoch 7/100\n",
      "475/475 [==============================] - 0s 541us/step - loss: 3556096019005440.0000\n",
      "Epoch 8/100\n",
      "475/475 [==============================] - 0s 548us/step - loss: 3545551605858304.0000\n",
      "Epoch 9/100\n",
      "475/475 [==============================] - 0s 552us/step - loss: 3532812195987456.0000\n",
      "Epoch 10/100\n",
      "475/475 [==============================] - 0s 539us/step - loss: 3522929744674816.0000\n",
      "Epoch 11/100\n",
      "475/475 [==============================] - 0s 572us/step - loss: 3511043154247680.0000\n",
      "Epoch 12/100\n",
      "475/475 [==============================] - 0s 534us/step - loss: 3501058429026304.0000\n",
      "Epoch 13/100\n",
      "475/475 [==============================] - 0s 686us/step - loss: 3491657014050816.0000\n",
      "Epoch 14/100\n",
      "475/475 [==============================] - 1s 1ms/step - loss: 3484062169694208.0000\n",
      "Epoch 15/100\n",
      "475/475 [==============================] - 0s 834us/step - loss: 3475903342444544.0000\n",
      "Epoch 16/100\n",
      "475/475 [==============================] - 0s 874us/step - loss: 3470344044150784.0000\n",
      "Epoch 17/100\n",
      "475/475 [==============================] - 0s 548us/step - loss: 3463472364912640.0000\n",
      "Epoch 18/100\n",
      "475/475 [==============================] - 0s 630us/step - loss: 3457608929247232.0000\n",
      "Epoch 19/100\n",
      "475/475 [==============================] - 0s 609us/step - loss: 3451660936413184.0000\n",
      "Epoch 20/100\n",
      "475/475 [==============================] - 0s 628us/step - loss: 3443317425569792.0000\n",
      "Epoch 21/100\n",
      "475/475 [==============================] - 0s 589us/step - loss: 3437869259554816.0000\n",
      "Epoch 22/100\n",
      "475/475 [==============================] - 0s 614us/step - loss: 3431153541316608.0000\n",
      "Epoch 23/100\n",
      "475/475 [==============================] - 0s 624us/step - loss: 3424285083303936.0000\n",
      "Epoch 24/100\n",
      "475/475 [==============================] - 0s 596us/step - loss: 3419359024250880.0000\n",
      "Epoch 25/100\n",
      "475/475 [==============================] - 0s 625us/step - loss: 3413617189847040.0000\n",
      "Epoch 26/100\n",
      "475/475 [==============================] - 0s 583us/step - loss: 3408238011744256.0000\n",
      "Epoch 27/100\n",
      "475/475 [==============================] - 0s 698us/step - loss: 3402589861314560.0000\n",
      "Epoch 28/100\n",
      "475/475 [==============================] - 0s 615us/step - loss: 3397494419488768.0000\n",
      "Epoch 29/100\n",
      "475/475 [==============================] - 0s 614us/step - loss: 3392686740471808.0000\n",
      "Epoch 30/100\n",
      "475/475 [==============================] - 0s 632us/step - loss: 3388966761922560.0000\n",
      "Epoch 31/100\n",
      "475/475 [==============================] - 0s 808us/step - loss: 3383475109363712.0000\n",
      "Epoch 32/100\n",
      "475/475 [==============================] - 0s 677us/step - loss: 3378098078744576.0000\n",
      "Epoch 33/100\n",
      "475/475 [==============================] - 0s 656us/step - loss: 3373809822334976.0000\n",
      "Epoch 34/100\n",
      "475/475 [==============================] - 0s 648us/step - loss: 3370043941322752.0000\n",
      "Epoch 35/100\n",
      "475/475 [==============================] - 0s 715us/step - loss: 3365412624400384.0000\n",
      "Epoch 36/100\n",
      "475/475 [==============================] - 0s 625us/step - loss: 3361701235785728.0000\n",
      "Epoch 37/100\n",
      "475/475 [==============================] - 0s 616us/step - loss: 3357057839267840.0000\n",
      "Epoch 38/100\n",
      "475/475 [==============================] - 0s 704us/step - loss: 3353481742123008.0000\n",
      "Epoch 39/100\n",
      "475/475 [==============================] - 0s 633us/step - loss: 3350153947774976.0000\n",
      "Epoch 40/100\n",
      "475/475 [==============================] - 0s 642us/step - loss: 3344269574144000.0000\n",
      "Epoch 41/100\n",
      "475/475 [==============================] - 0s 635us/step - loss: 3340473628360704.0000\n",
      "Epoch 42/100\n",
      "475/475 [==============================] - 0s 662us/step - loss: 3337064766504960.0000\n",
      "Epoch 43/100\n",
      "475/475 [==============================] - 0s 659us/step - loss: 3332095220908032.0000\n",
      "Epoch 44/100\n",
      "475/475 [==============================] - 0s 642us/step - loss: 3328350546296832.0000\n",
      "Epoch 45/100\n",
      "475/475 [==============================] - 0s 690us/step - loss: 3324024440487936.0000\n",
      "Epoch 46/100\n",
      "475/475 [==============================] - 0s 675us/step - loss: 3320458812325888.0000\n",
      "Epoch 47/100\n",
      "475/475 [==============================] - 0s 830us/step - loss: 3317642387521536.0000\n",
      "Epoch 48/100\n",
      "475/475 [==============================] - 0s 807us/step - loss: 3314910519885824.0000\n",
      "Epoch 49/100\n",
      "475/475 [==============================] - 0s 628us/step - loss: 3309437657808896.0000\n",
      "Epoch 50/100\n",
      "475/475 [==============================] - 0s 617us/step - loss: 3305949070622720.0000\n",
      "Epoch 51/100\n",
      "475/475 [==============================] - 0s 609us/step - loss: 3301770335879168.0000\n",
      "Epoch 52/100\n",
      "475/475 [==============================] - 0s 603us/step - loss: 3297450135650304.0000\n",
      "Epoch 53/100\n",
      "475/475 [==============================] - 0s 597us/step - loss: 3294293334687744.0000\n",
      "Epoch 54/100\n",
      "475/475 [==============================] - 0s 637us/step - loss: 3291539723780096.0000\n",
      "Epoch 55/100\n",
      "475/475 [==============================] - 0s 575us/step - loss: 3287549967597568.0000\n",
      "Epoch 56/100\n",
      "475/475 [==============================] - 0s 583us/step - loss: 3283218224644096.0000\n",
      "Epoch 57/100\n",
      "475/475 [==============================] - 0s 606us/step - loss: 3279698767380480.0000\n",
      "Epoch 58/100\n",
      "475/475 [==============================] - 0s 724us/step - loss: 3275626869948416.0000\n",
      "Epoch 59/100\n",
      "475/475 [==============================] - 0s 576us/step - loss: 3273259806097408.0000\n",
      "Epoch 60/100\n",
      "475/475 [==============================] - 0s 557us/step - loss: 3269710015627264.0000\n",
      "Epoch 61/100\n",
      "475/475 [==============================] - 0s 590us/step - loss: 3266659515105280.0000\n",
      "Epoch 62/100\n",
      "475/475 [==============================] - 0s 572us/step - loss: 3262821693390848.0000\n",
      "Epoch 63/100\n",
      "475/475 [==============================] - 0s 573us/step - loss: 3259443433177088.0000\n",
      "Epoch 64/100\n",
      "475/475 [==============================] - 0s 699us/step - loss: 3255658761682944.0000\n",
      "Epoch 65/100\n",
      "475/475 [==============================] - 0s 625us/step - loss: 3252698992345088.0000\n",
      "Epoch 66/100\n",
      "475/475 [==============================] - 0s 587us/step - loss: 3249256844492800.0000\n",
      "Epoch 67/100\n",
      "475/475 [==============================] - 0s 764us/step - loss: 3245832681816064.0000\n",
      "Epoch 68/100\n",
      "475/475 [==============================] - 0s 592us/step - loss: 3242269201137664.0000\n",
      "Epoch 69/100\n",
      "475/475 [==============================] - 0s 598us/step - loss: 3239071329550336.0000\n",
      "Epoch 70/100\n",
      "475/475 [==============================] - 0s 632us/step - loss: 3235926071312384.0000\n",
      "Epoch 71/100\n",
      "475/475 [==============================] - 0s 591us/step - loss: 3231995907801088.0000\n",
      "Epoch 72/100\n",
      "475/475 [==============================] - 0s 597us/step - loss: 3229425369874432.0000\n",
      "Epoch 73/100\n",
      "475/475 [==============================] - 0s 595us/step - loss: 3226192064806912.0000\n",
      "Epoch 74/100\n",
      "475/475 [==============================] - 0s 609us/step - loss: 3223056738680832.0000\n",
      "Epoch 75/100\n",
      "475/475 [==============================] - 0s 581us/step - loss: 3220658536316928.0000\n",
      "Epoch 76/100\n",
      "475/475 [==============================] - 0s 582us/step - loss: 3217355169595392.0000\n",
      "Epoch 77/100\n",
      "475/475 [==============================] - 0s 582us/step - loss: 3215054677737472.0000\n",
      "Epoch 78/100\n",
      "475/475 [==============================] - 0s 577us/step - loss: 3211933310255104.0000\n",
      "Epoch 79/100\n",
      "475/475 [==============================] - 0s 578us/step - loss: 3208908311101440.0000\n",
      "Epoch 80/100\n",
      "475/475 [==============================] - 0s 601us/step - loss: 3206055647510528.0000\n",
      "Epoch 81/100\n",
      "475/475 [==============================] - 0s 593us/step - loss: 3203516248096768.0000\n",
      "Epoch 82/100\n",
      "475/475 [==============================] - 0s 591us/step - loss: 3201649011064832.0000\n",
      "Epoch 83/100\n",
      "475/475 [==============================] - 0s 603us/step - loss: 3197718042247168.0000\n",
      "Epoch 84/100\n",
      "475/475 [==============================] - 0s 592us/step - loss: 3194323139035136.0000\n",
      "Epoch 85/100\n",
      "475/475 [==============================] - 0s 606us/step - loss: 3191966544166912.0000\n",
      "Epoch 86/100\n",
      "475/475 [==============================] - 0s 586us/step - loss: 3190283185422336.0000\n",
      "Epoch 87/100\n",
      "475/475 [==============================] - 0s 601us/step - loss: 3187854649851904.0000\n",
      "Epoch 88/100\n",
      "475/475 [==============================] - 0s 592us/step - loss: 3183922338856960.0000\n",
      "Epoch 89/100\n",
      "475/475 [==============================] - 0s 577us/step - loss: 3180886870720512.0000\n",
      "Epoch 90/100\n",
      "475/475 [==============================] - 0s 626us/step - loss: 3178642481872896.0000\n",
      "Epoch 91/100\n",
      "475/475 [==============================] - 0s 576us/step - loss: 3175725930643456.0000\n",
      "Epoch 92/100\n",
      "475/475 [==============================] - 0s 621us/step - loss: 3171921394925568.0000\n",
      "Epoch 93/100\n",
      "475/475 [==============================] - 0s 592us/step - loss: 3169049135546368.0000\n",
      "Epoch 94/100\n",
      "475/475 [==============================] - 0s 633us/step - loss: 3166230831693824.0000\n",
      "Epoch 95/100\n",
      "475/475 [==============================] - 0s 692us/step - loss: 3163044502831104.0000\n",
      "Epoch 96/100\n",
      "475/475 [==============================] - 0s 609us/step - loss: 3160508861513728.0000\n",
      "Epoch 97/100\n",
      "475/475 [==============================] - 0s 694us/step - loss: 3156767676563456.0000\n",
      "Epoch 98/100\n",
      "475/475 [==============================] - 0s 685us/step - loss: 3153686574399488.0000\n",
      "Epoch 99/100\n",
      "475/475 [==============================] - 0s 686us/step - loss: 3152446402592768.0000\n",
      "Epoch 100/100\n",
      "475/475 [==============================] - 0s 583us/step - loss: 3148993248886784.0000\n"
     ]
    },
    {
     "data": {
      "text/plain": [
       "<tensorflow.python.keras.callbacks.History at 0x12dc0a5d640>"
      ]
     },
     "execution_count": 49,
     "metadata": {},
     "output_type": "execute_result"
    }
   ],
   "source": [
    "model.fit(x=x_train,y=y_train,epochs=100)"
   ]
  },
  {
   "cell_type": "code",
   "execution_count": 62,
   "id": "56624850-7283-4da8-85fd-ee11f1957a4e",
   "metadata": {},
   "outputs": [],
   "source": [
    "loss=pd.DataFrame(model.history.history)"
   ]
  },
  {
   "cell_type": "code",
   "execution_count": 68,
   "id": "84db22bc-a356-4f52-821b-a2fe375394de",
   "metadata": {},
   "outputs": [
    {
     "name": "stdout",
     "output_type": "stream",
     "text": [
      "  1/475 [..............................] - ETA: 0s - loss: 1790793056518144.0000WARNING:tensorflow:Callbacks method `on_test_batch_begin` is slow compared to the batch time (batch time: 0.0000s vs `on_test_batch_begin` time: 0.0013s). Check your callbacks.\n",
      "WARNING:tensorflow:Callbacks method `on_test_batch_end` is slow compared to the batch time (batch time: 0.0000s vs `on_test_batch_end` time: 0.0011s). Check your callbacks.\n",
      "475/475 [==============================] - 0s 468us/step - loss: 3147223185489920.0000\n"
     ]
    }
   ],
   "source": [
    "train_loss=model.evaluate(x_train,y_train)\n",
    "test_loss=model.evaluate(x_test,y_test,verbose=0)"
   ]
  },
  {
   "cell_type": "code",
   "execution_count": 51,
   "id": "3bef9d57-4cae-475d-ba00-3679440fa395",
   "metadata": {},
   "outputs": [],
   "source": [
    "from sklearn.metrics import mean_absolute_error,mean_squared_error"
   ]
  },
  {
   "cell_type": "code",
   "execution_count": 82,
   "id": "5b7f5ba2-62bf-4b06-ad10-b1f7a9a2b58e",
   "metadata": {},
   "outputs": [],
   "source": [
    "predict_values=model.predict(x_test)\n",
    "predict_values=pd.DataFrame(predict_values,columns=[\"Predict Values\"])"
   ]
  },
  {
   "cell_type": "code",
   "execution_count": 89,
   "id": "73f003ed-c291-4db1-9778-b03d6d57d100",
   "metadata": {},
   "outputs": [],
   "source": [
    "predict_df=pd.DataFrame(y_test,columns=[\"Real Y\"])"
   ]
  },
  {
   "cell_type": "code",
   "execution_count": 90,
   "id": "1822c6c9-0742-43ec-af98-6bb11a97b55a",
   "metadata": {},
   "outputs": [],
   "source": [
    "predict_df=pd.concat([predict_df,predict_values],axis=1)"
   ]
  },
  {
   "cell_type": "code",
   "execution_count": 91,
   "id": "eaf91875-e44a-4db5-b7f1-7151ea77e7a7",
   "metadata": {},
   "outputs": [
    {
     "data": {
      "text/plain": [
       "<AxesSubplot:xlabel='Real Y', ylabel='Predict Values'>"
      ]
     },
     "execution_count": 91,
     "metadata": {},
     "output_type": "execute_result"
    },
    {
     "data": {
      "image/png": "[encoded data removed]",
      "text/plain": [
       "<Figure size 640x480 with 1 Axes>"
      ]
     },
     "metadata": {},
     "output_type": "display_data"
    }
   ],
   "source": [
    "sbn.scatterplot(x=\"Real Y\",y=\"Predict Values\",data=predict_df)"
   ]
  },
  {
   "cell_type": "code",
   "execution_count": 92,
   "id": "117db0b7-7c4e-4747-b8de-751073918a47",
   "metadata": {},
   "outputs": [
    {
     "data": {
      "text/plain": [
       "26658542.36663841"
      ]
     },
     "execution_count": 92,
     "metadata": {},
     "output_type": "execute_result"
    }
   ],
   "source": [
    "mean_absolute_error(predict_df[\"Real Y\"],predict_df[\"Predict Values\"])"
   ]
  },
  {
   "cell_type": "code",
   "execution_count": 93,
   "id": "2b6732d0-8a22-410c-9aa0-d4516861a8b3",
   "metadata": {},
   "outputs": [],
   "source": [
    "test_predict=model.predict(x_test)"
   ]
  },
  {
   "cell_type": "code",
   "execution_count": 94,
   "id": "8060ce05-6f6f-4c31-be2b-278fc9d6f812",
   "metadata": {},
   "outputs": [],
   "source": [
    "from tensorflow.keras.models import load_model"
   ]
  },
  {
   "cell_type": "code",
   "execution_count": 95,
   "id": "93d1a6df-ee1c-4581-8d73-aa074dc1a8c9",
   "metadata": {},
   "outputs": [],
   "source": [
    "model.save(\"Model1.h5\")"
   ]
  },
  {
   "cell_type": "code",
   "execution_count": 96,
   "id": "6f3c2f4b-f67d-4c92-a9a4-e40e61b6d0c0",
   "metadata": {},
   "outputs": [],
   "source": [
    "another_model=load_model(\"Model1.h5\")"
   ]
  },
  {
   "cell_type": "code",
   "execution_count": null,
   "id": "f0c7a6a9-3d26-410d-8f20-68109304c960",
   "metadata": {},
   "outputs": [],
   "source": []
  }
 ],
 "metadata": {
  "kernelspec": {
   "display_name": "Python 3 (ipykernel)",
   "language": "python",
   "name": "python3"
  },
  "language_info": {
   "codemirror_mode": {
    "name": "ipython",
    "version": 3
   },
   "file_extension": ".py",
   "mimetype": "text/x-python",
   "name": "python",
   "nbconvert_exporter": "python",
   "pygments_lexer": "ipython3",
   "version": "3.8.18"
  }
 },
 "nbformat": 4,
 "nbformat_minor": 5
}
